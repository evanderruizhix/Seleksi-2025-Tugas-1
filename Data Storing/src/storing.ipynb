{
 "cells": [
  {
   "cell_type": "code",
   "execution_count": null,
   "id": "f12de66a",
   "metadata": {},
   "outputs": [],
   "source": [
    "import json         # untuk memproses file JSON\n",
    "import psycopg2     # untuk melakukan koneksi dan eksekusi query ke database PostgreSQL."
   ]
  },
  {
   "cell_type": "code",
   "execution_count": null,
   "id": "66507e49",
   "metadata": {},
   "outputs": [],
   "source": [
    "# === PARAMETER KONEKSI GLOBAL ===\n",
    "CONN_PARAMS = {\n",
    "    'dbname': 'ssbuspirits',\n",
    "    'user': 'postgres',\n",
    "    'password': 'evander',\n",
    "    'host': 'localhost',\n",
    "    'port': '5432'\n",
    "}\n",
    "\n",
    "\n",
    "# === FUNCTION UNTUK MENYIMPAN JSON KE POSTGRES ===\n",
    "def store_json_to_postgres(json_filename, table_name, columns, conn_params):\n",
    "    # Buka file JSON\n",
    "    with open(json_filename, 'r', encoding='utf-8') as f:\n",
    "        data = json.load(f)\n",
    "\n",
    "    # Koneksi ke PostgreSQL\n",
    "    conn = psycopg2.connect(**conn_params)\n",
    "    cur = conn.cursor()\n",
    "\n",
    "    # Bangun query INSERT\n",
    "    placeholders = ', '.join(['%s'] * len(columns))\n",
    "    column_names = ', '.join(columns)\n",
    "    conflict_target = columns[0]  # kolom pertama adalah PRIMARY KEY\n",
    "\n",
    "    query = f\"\"\"\n",
    "        INSERT INTO {table_name} ({column_names})\n",
    "        VALUES ({placeholders})\n",
    "        ON CONFLICT ({conflict_target}) DO NOTHING;\n",
    "    \"\"\"\n",
    "\n",
    "    # Eksekusi query untuk setiap data\n",
    "    for row in data:\n",
    "        values = tuple(row[col] for col in columns)\n",
    "        cur.execute(query, values)\n",
    "\n",
    "    conn.commit()\n",
    "    cur.close()\n",
    "    conn.close()"
   ]
  },
  {
   "cell_type": "code",
   "execution_count": null,
   "id": "2db98765",
   "metadata": {},
   "outputs": [],
   "source": [
    "# series.json\n",
    "store_json_to_postgres(\n",
    "    json_filename='../../Data Scraping/data/series.json',\n",
    "    table_name='series',\n",
    "    columns=['series_id', 'name'],\n",
    "    conn_params=CONN_PARAMS\n",
    ")"
   ]
  },
  {
   "cell_type": "code",
   "execution_count": null,
   "id": "da7f0a25",
   "metadata": {},
   "outputs": [],
   "source": [
    "# spirits.json\n",
    "store_json_to_postgres(\n",
    "    json_filename='../../Data Scraping/data/spirits.json',\n",
    "    table_name='spirits',\n",
    "    columns=['spirits_id', 'name', 'category', 'spirit_battle', 'series_id'],\n",
    "    conn_params=CONN_PARAMS\n",
    ")"
   ]
  },
  {
   "cell_type": "code",
   "execution_count": 26,
   "id": "94ea8002",
   "metadata": {},
   "outputs": [],
   "source": [
    "# ability.json\n",
    "store_json_to_postgres(\n",
    "    json_filename='../../Data Scraping/data/ability.json',\n",
    "    table_name='ability',\n",
    "    columns=['ability_id', 'name'],\n",
    "    conn_params=CONN_PARAMS\n",
    ")"
   ]
  },
  {
   "cell_type": "code",
   "execution_count": null,
   "id": "28d1299f",
   "metadata": {},
   "outputs": [],
   "source": [
    "# equipable_spirits.json\n",
    "store_json_to_postgres(\n",
    "    json_filename='../../Data Scraping/data/equipable_spirits.json',\n",
    "    table_name='equipable_spirits',\n",
    "    columns=['spirits_id', 'class', 'ability_id'],\n",
    "    conn_params=CONN_PARAMS\n",
    ")"
   ]
  },
  {
   "cell_type": "code",
   "execution_count": null,
   "id": "a8378f1f",
   "metadata": {},
   "outputs": [],
   "source": [
    "# primary_spirits.json\n",
    "store_json_to_postgres(\n",
    "    json_filename='../../Data Scraping/data/primary_spirits.json',\n",
    "    table_name='primary_spirits',\n",
    "    columns=['spirits_id', 'type', 'slot_capacity', 'min_power', 'max_power', 'min_attack', 'max_attack', 'min_defense', 'max_defense'],\n",
    "    conn_params=CONN_PARAMS\n",
    ")"
   ]
  },
  {
   "cell_type": "code",
   "execution_count": null,
   "id": "4abde287",
   "metadata": {},
   "outputs": [],
   "source": [
    "# support_spirits.json\n",
    "store_json_to_postgres(\n",
    "    json_filename='../../Data Scraping/data/support_spirits.json',\n",
    "    table_name='support_spirits',\n",
    "    columns=['spirits_id', 'slot_cost'],\n",
    "    conn_params=CONN_PARAMS\n",
    ")"
   ]
  },
  {
   "cell_type": "code",
   "execution_count": null,
   "id": "96e12f99",
   "metadata": {},
   "outputs": [],
   "source": [
    "# obtaining_method.json\n",
    "store_json_to_postgres(\n",
    "    json_filename='../../Data Scraping/data/obtaining_method.json',\n",
    "    table_name='obtaining_method',\n",
    "    columns=['method_id', 'name'],\n",
    "    conn_params=CONN_PARAMS\n",
    ")"
   ]
  },
  {
   "cell_type": "code",
   "execution_count": null,
   "id": "0370bbfc",
   "metadata": {},
   "outputs": [],
   "source": [
    "# spirits_obtain.json\n",
    "\n",
    "# Menggunakan metode atau kode tersendiri karena memiliki 2 primary key (fungsi store_json_to_postgres hanya mendukung kolom pertama sebagai primary key)\n",
    "with open('../../Data Scraping/data/spirits_obtain.json', 'r', encoding='utf-8') as f:\n",
    "    data = json.load(f)\n",
    "try:\n",
    "    conn = psycopg2.connect(**CONN_PARAMS)\n",
    "    cur = conn.cursor()\n",
    "\n",
    "    for row in data:\n",
    "        spirits_id = row['spirits_id']\n",
    "        method_id = row['method_id']\n",
    "        \n",
    "        cur.execute(\"\"\"\n",
    "            INSERT INTO spirits_obtain (spirits_id, method_id)\n",
    "            VALUES (%s, %s)\n",
    "            ON CONFLICT DO NOTHING;\n",
    "        \"\"\", (spirits_id, method_id))\n",
    "\n",
    "    conn.commit()\n",
    "    cur.close()\n",
    "    conn.close()\n",
    "\n",
    "except Exception as e:\n",
    "    print(\"Terjadi error:\", e)"
   ]
  }
 ],
 "metadata": {
  "kernelspec": {
   "display_name": "Python 3",
   "language": "python",
   "name": "python3"
  },
  "language_info": {
   "codemirror_mode": {
    "name": "ipython",
    "version": 3
   },
   "file_extension": ".py",
   "mimetype": "text/x-python",
   "name": "python",
   "nbconvert_exporter": "python",
   "pygments_lexer": "ipython3",
   "version": "3.11.9"
  }
 },
 "nbformat": 4,
 "nbformat_minor": 5
}
